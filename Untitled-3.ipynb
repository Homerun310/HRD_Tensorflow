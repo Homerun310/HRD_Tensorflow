{
 "cells": [
  {
   "cell_type": "code",
   "execution_count": 16,
   "metadata": {},
   "outputs": [
    {
     "name": "stdout",
     "output_type": "stream",
     "text": [
      "Epoch 1/5\n",
      "582/582 [==============================] - 330s 562ms/step - loss: 0.0663 - accuracy: 0.9796\n",
      "Epoch 2/5\n",
      "582/582 [==============================] - 325s 558ms/step - loss: 0.0320 - accuracy: 0.9893\n",
      "Epoch 3/5\n",
      "582/582 [==============================] - 329s 566ms/step - loss: 0.0270 - accuracy: 0.9906\n",
      "Epoch 4/5\n",
      "490/582 [========================>.....] - ETA: 54s - loss: 0.0253 - accuracy: 0.9917"
     ]
    }
   ],
   "source": [
    "import tensorflow_datasets as tfds\n",
    "import numpy as np\n",
    "import tensorflow as tf\n",
    "from tensorflow.image import ResizeMethod\n",
    "\n",
    "# 진행 표시줄 비활성화\n",
    "tfds.disable_progress_bar()\n",
    "\n",
    "# 데이터셋 로드\n",
    "raw_train, raw_test = tfds.load(\n",
    "    'cats_vs_dogs',\n",
    "    split=['train[:80%]', 'train[80%:]'],  # train[20%:]에서 80%로 수정\n",
    "    as_supervised=True\n",
    ")\n",
    "\n",
    "# 전처리 함수 정의\n",
    "def preprocess(image, label):\n",
    "    out_image = tf.image.resize(image, [224, 224], method=tf.image.ResizeMethod.BICUBIC)  # 리사이즈 크기를 224로 변경\n",
    "    out_image = tf.keras.applications.mobilenet_v2.preprocess_input(out_image)\n",
    "    return out_image, label\n",
    "\n",
    "# 배치 크기 정의\n",
    "batch_size = 32\n",
    "train_batch = raw_train.map(preprocess).batch(batch_size)\n",
    "test_batch = raw_test.map(preprocess).batch(batch_size)\n",
    "\n",
    "# MobileNetV2 모델 정의\n",
    "mobilenet_base = tf.keras.applications.MobileNetV2(\n",
    "    input_shape=(224, 224, 3),  # 입력 형태\n",
    "    weights='imagenet',\n",
    "    include_top=False\n",
    ")\n",
    "\n",
    "mobilenet_base.trainable = False  # 사전 학습된 가중치 고정\n",
    "\n",
    "# 전체 모델 정의\n",
    "mobilenet_model = tf.keras.Sequential([\n",
    "    mobilenet_base,\n",
    "    tf.keras.layers.GlobalAveragePooling2D(),\n",
    "    tf.keras.layers.Dense(1, activation='sigmoid')  # 이진 분류를 위한 시그모이드 활성화 함수 추가\n",
    "])\n",
    "\n",
    "# 모델 컴파일\n",
    "mobilenet_model.compile(optimizer='adam',\n",
    "                        loss='binary_crossentropy',\n",
    "                        metrics=['accuracy'])\n",
    "\n",
    "# 모델 학습\n",
    "mobilenet_model.fit(train_batch, epochs=5)\n",
    "\n",
    "# 모델 평가\n",
    "mobilenet_model.evaluate(test_batch, verbose=2)"
   ]
  }
 ],
 "metadata": {
  "kernelspec": {
   "display_name": "tf2",
   "language": "python",
   "name": "python3"
  },
  "language_info": {
   "codemirror_mode": {
    "name": "ipython",
    "version": 3
   },
   "file_extension": ".py",
   "mimetype": "text/x-python",
   "name": "python",
   "nbconvert_exporter": "python",
   "pygments_lexer": "ipython3",
   "version": "3.8.19"
  }
 },
 "nbformat": 4,
 "nbformat_minor": 2
}
